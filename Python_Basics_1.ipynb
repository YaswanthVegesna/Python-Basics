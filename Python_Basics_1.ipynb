{
  "nbformat": 4,
  "nbformat_minor": 0,
  "metadata": {
    "colab": {
      "provenance": []
    },
    "kernelspec": {
      "name": "python3",
      "display_name": "Python 3"
    },
    "language_info": {
      "name": "python"
    }
  },
  "cells": [
    {
      "cell_type": "markdown",
      "source": [
        "# What is Python?\n",
        "\n",
        "### Python is a high-level, general-purpose programming language known for its:\n",
        "\n",
        "- Readability: Syntax resembles plain English, making it beginner-friendly.\n",
        "- Versatility: Applicable to various domains like web development, data science, machine learning, and automation.\n",
        "- Large Standard Library: Rich collection of built-in modules and functions for diverse tasks.\n",
        "- Open-Source Community: Extensive support and contributions from a vast developer community.\n",
        "\n",
        "## Key Features of Python:\n",
        "\n",
        "- Interpreted Language: Code is executed line by line without prior compilation, offering faster development cycles.\n",
        "- Dynamic Typing: No need to explicitly declare variable data types. Python infers types based on assigned values.\n",
        "- Object-Oriented Programming (OOP): Supports object-oriented concepts like classes, objects, inheritance, and polymorphism for code organization and reusability.\n",
        "- Strong Libraries and Frameworks: Abundant third-party libraries and frameworks extend Python's capabilities for specific domains.\n",
        "- Cross-Platform: Python code runs on various operating systems (Windows, macOS, Linux) without major modifications.\n",
        "\n",
        "### Importance of Python for Data Science:\n",
        "\n",
        "- Data Analysis: Libraries like NumPy and Pandas provide powerful data structures and tools for efficient data manipulation and analysis.\n",
        "- Machine Learning: Frameworks like TensorFlow and scikit-learn offer comprehensive libraries for building and deploying machine learning models.\n",
        "- Data Visualization: Libraries like Matplotlib and Seaborn create informative visualizations to explore and communicate data insights.\n",
        "- Automation: Python scripts can automate data cleaning, preprocessing, and model training tasks, saving time and effort.\n",
        "\n",
        "### In Summary:\n",
        "\n",
        "- Python's combination of readability, versatility, and rich ecosystem of libraries makes it a compelling choice for data science tasks.\n",
        "- Its user-friendly nature allows beginners to grasp the fundamentals quickly, while its power caters to complex data analysis and machine learning applications."
      ],
      "metadata": {
        "id": "5gyT9sigz54h"
      }
    },
    {
      "cell_type": "code",
      "source": [
        "# First program in Python\n",
        "print(\"Hello and Welcome to Python programming..!\")"
      ],
      "metadata": {
        "colab": {
          "base_uri": "https://localhost:8080/"
        },
        "id": "mAp7N-C-zclX",
        "outputId": "6cbdf5f9-7b5d-4456-8303-199e92c66c4b"
      },
      "execution_count": 18,
      "outputs": [
        {
          "output_type": "stream",
          "name": "stdout",
          "text": [
            "Hello and Welcome to Python programming..!\n"
          ]
        }
      ]
    },
    {
      "cell_type": "markdown",
      "source": [
        "# Data Types and Variables:\n",
        "\n",
        "## Data Types:\n",
        "\n",
        "* In Python, data types define the kind of values a variable can hold.\n",
        "* They determine the operations that can be performed on that data.\n",
        "1. Primitive Data Types:\n",
        "- These are fundamental building blocks.\n",
        "- Integers: Represent whole numbers (e.g., -5, 100).\n",
        "- Floats: Represent numbers with decimal points (e.g., 3.14, -9.87).\n",
        "- Strings: Represent sequences of characters (e.g., \"Hello\", 'World!'). They are immutable, meaning their content cannot be changed after creation.\n",
        "- Booleans: Represent logical values, True or False.\n",
        "2. Collection Data Types: These store collections of elements.\n",
        "- Lists: Ordered, mutable sequences of elements enclosed in square brackets []. Elements can be of different data types.\n",
        "- Tuples: Ordered, immutable sequences similar to lists, enclosed in parentheses (). Once created, their elements cannot be modified.\n",
        "- Sets: Unordered collections of unique elements enclosed in curly braces {}. Sets eliminate duplicates.\n",
        "- Dictionaries: Unordered collections of key-value pairs enclosed in curly braces {}. Keys are used to access corresponding values."
      ],
      "metadata": {
        "id": "7iHgCt_7pVMQ"
      }
    },
    {
      "cell_type": "code",
      "source": [
        "age = 25  # integer\n",
        "height = 5.9  # float\n",
        "name = \"Karthik\"  # string\n",
        "is_registered = True  # boolean\n",
        "print(age,height,name,is_registered,sep='|')\n"
      ],
      "metadata": {
        "colab": {
          "base_uri": "https://localhost:8080/"
        },
        "id": "8CVVgPVEp_FW",
        "outputId": "96ff1ea5-2c89-42a3-a94b-9adfb3abd599"
      },
      "execution_count": 1,
      "outputs": [
        {
          "output_type": "stream",
          "name": "stdout",
          "text": [
            "25|5.9|Karthik|True\n"
          ]
        }
      ]
    },
    {
      "cell_type": "markdown",
      "source": [
        "# Python Input and Output: Taking Data In and Giving Results Out\n",
        "#### Python programs often need to interact with the user, receiving input and displaying output. Here's a quick rundown on essential functions for this interaction:\n",
        "1. Input (Python 3):\n",
        "\n",
        "- The input() function is used to take user input from the keyboard.\n",
        "- It prompts the user with an optional message (string) enclosed in quotation marks.\n",
        "- The user's input is returned as a string, regardless of the data type entered.\n",
        "- For numerical input, you can convert the returned string to the desired data type using functions like int(), float()\n",
        "\n",
        "2. Output (print())\n",
        "\n",
        "- The print() function displays data to the console or output window.\n",
        "- It can take multiple arguments (comma-separated) to print various values or expressions.\n",
        "- You can add newline characters (\\n) within the print() statement for line breaks.\n",
        "\n",
        "Note:\n",
        "By mastering input() and print(), you can create interactive Python programs that communicate effectively with users and deliver meaningful results."
      ],
      "metadata": {
        "id": "Wtgby3BZ4avN"
      }
    },
    {
      "cell_type": "code",
      "source": [
        "# Output function - Print example\n",
        "age = 30\n",
        "message = \"Welcome to the program!\"\n",
        "print(\"Your age is: \",age)\n",
        "print(message)\n"
      ],
      "metadata": {
        "colab": {
          "base_uri": "https://localhost:8080/"
        },
        "id": "zMerolwv4c02",
        "outputId": "80fa357e-09b6-4348-b998-156e2c87ffcf"
      },
      "execution_count": 19,
      "outputs": [
        {
          "output_type": "stream",
          "name": "stdout",
          "text": [
            "Your age is:  30\n",
            "Welcome to the program!\n"
          ]
        }
      ]
    },
    {
      "cell_type": "code",
      "source": [
        "name = input(\"Enter your name: \")\n",
        "age = int(input(\"Enter your age : \"))  # convert string to integer\n",
        "print(\"Your name is : \",name )\n",
        "print(\"Your age is : \",age)\n"
      ],
      "metadata": {
        "colab": {
          "base_uri": "https://localhost:8080/"
        },
        "id": "g7simkaW4nR2",
        "outputId": "9727be09-b280-4513-bc92-893567af9dd8"
      },
      "execution_count": 20,
      "outputs": [
        {
          "output_type": "stream",
          "name": "stdout",
          "text": [
            "Enter your name: Yaswanth\n",
            "Enter your age : 24\n",
            "Your name is :  Yaswanth\n",
            "Your age is :  24\n"
          ]
        }
      ]
    },
    {
      "cell_type": "markdown",
      "source": [
        "# Python Operators\n",
        "1. Arithmetic Operators:\n",
        "\n",
        "- +: Addition\n",
        "- -: Subtraction\n",
        "- *: Multiplication\n",
        "- /: Division (returns a float)\n",
        "- //: Floor division (integer quotient)\n",
        "- %: Modulo (remainder after division)\n",
        "- **: Exponentiation(power)\n",
        "2. Comparison Operators:\n",
        "\n",
        "- ==: Equal to\n",
        "- !=: Not equal to\n",
        "- :>:Greater than\n",
        "- <: Less than\n",
        "- :>=: Greater than or equal to\n",
        "- <= : Less than or equal to\n",
        "3. Logical Operators:\n",
        "\n",
        "- and: Returns True if both operands are True, False otherwise.\n",
        "- or: Returns True if at least one operand is True, False otherwise.\n",
        "- not: Inverts the truth value of a boolean operand.\n",
        "4. Assignment Operators:\n",
        "\n",
        "- =: Assigns a value to a variable.\n",
        "- +=, -=, *=, /=, etc.: Combined assignment operators perform the operation and then assign the result (e.g., x += 3 is equivalent to x = x + 3).\n",
        "5. Membership Operators:\n",
        "\n",
        "- in: Checks if a value exists within a sequence (list, tuple, string).\n",
        "- not in: Checks if a value does not exist within a sequence.\n",
        "6. Identity Operators:\n",
        "\n",
        "- is: Checks if two objects are the same object in memory.\n",
        "- is not: Checks if two objects are not the same object in memory."
      ],
      "metadata": {
        "id": "AbxC2VaQqwmT"
      }
    },
    {
      "cell_type": "code",
      "source": [
        "# Arthematic Operators\n",
        "total_price = 10 + 5  # addition\n",
        "discount = 100 - 15  # subtraction\n",
        "area = 5 * 4  # multiplication\n",
        "average = 10 / 2  # division\n",
        "squared = 3 ** 2  # exponentiation\n",
        "remainder = 10 % 3  # modulo (remainder)\n",
        "print(\"total_price : \",total_price)\n",
        "print(\"discount : \",discount)\n",
        "print(\"area : \",area)\n",
        "print(\"average : \",average)\n",
        "print(\"squared : \",squared)\n",
        "print(\"remainder : \",remainder)"
      ],
      "metadata": {
        "colab": {
          "base_uri": "https://localhost:8080/"
        },
        "id": "YXnjbh8HqWoX",
        "outputId": "ffb6f55f-0640-444d-e840-ec3edafa360c"
      },
      "execution_count": 2,
      "outputs": [
        {
          "output_type": "stream",
          "name": "stdout",
          "text": [
            "total_price :  15\n",
            "discount :  85\n",
            "area :  20\n",
            "average :  5.0\n",
            "squared :  9\n",
            "remainder :  1\n"
          ]
        }
      ]
    },
    {
      "cell_type": "code",
      "source": [
        "# Comparision Operators\n",
        "is_equal = 10 == 10  # True\n",
        "is_different = \"apple\" != \"banana\"  # True\n",
        "is_older = 30 > 25  # True\n",
        "is_youngest = 20 <= 20  # True\n"
      ],
      "metadata": {
        "id": "MLO0gLy2shsH"
      },
      "execution_count": 3,
      "outputs": []
    },
    {
      "cell_type": "code",
      "source": [
        "# String Operations\n",
        "full_name = \"John \" + \"Doe\"  # concatenation\n",
        "repeated_string = \"Ha!\" * 3  # replication\n",
        "print(full_name)\n",
        "print(repeated_string)"
      ],
      "metadata": {
        "colab": {
          "base_uri": "https://localhost:8080/"
        },
        "id": "DyzbM-KZssHT",
        "outputId": "a0b3ff1f-3d15-40d0-e48d-cbd4db1392fb"
      },
      "execution_count": 4,
      "outputs": [
        {
          "output_type": "stream",
          "name": "stdout",
          "text": [
            "John Doe\n",
            "Ha!Ha!Ha!\n"
          ]
        }
      ]
    },
    {
      "cell_type": "markdown",
      "source": [
        "# Python Memory Management\n",
        "### Python handles memory management automatically, freeing you from manual allocation and deallocation.\n",
        "\n",
        "- Private Heap: Python uses a private heap to store all objects and data structures created during program execution.\n",
        "- Reference Counting: Python employs reference counting to track how many references (variables) point to an object.\n",
        "- Garbage Collection: A background process called the garbage collector identifies objects with no references (no longer needed). These are then removed from memory to prevent leaks.\n",
        "- Dynamic Allocation: Memory is allocated (assigned) to objects as needed during program execution."
      ],
      "metadata": {
        "id": "eE8oOwoKs-fY"
      }
    },
    {
      "cell_type": "markdown",
      "source": [
        "# Conditional Statements in Python: if, else, elif, and Nested if\n",
        "#### Conditional statements are fundamental building blocks in programming, allowing your code to make decisions based on specific conditions. Python offers several options for conditional control flow:\n",
        "\n",
        "1. if statement:\n",
        "\n",
        "- The if statement checks a condition.\n",
        "- If the condition evaluates to True, the indented code block following if executes.\n",
        "- If the condition is False, the code block is skipped.\n",
        "2. else statement:\n",
        "\n",
        "- The else statement provides an alternative code block to execute if the if condition is False.\n",
        "\n",
        "3. else if (elif) statement:\n",
        "\n",
        "- The elif statement (else if) allows checking multiple conditions sequentially.\n",
        "- It's used after an if statement and before another elif or else statement.\n",
        "- The code block associated with the first elif whose condition evaluates to True executes.\n",
        "\n",
        "4. Nested if statement:\n",
        "\n",
        "- A nested if statement places an if statement within another if statement's code block.\n",
        "- This allows for more complex decision-making based on multiple conditions.\n",
        "\n",
        "## Importance of Conditional Statements:\n",
        "\n",
        "- Control Flow: They direct the program's execution flow based on conditions, making it dynamic and responsive.\n",
        "- Decision Making: They enable your code to make choices and perform different actions based on specific criteria.\n",
        "- Complex Logic: By combining if, else, elif, and nested if, you can build intricate decision-making structures for various scenarios."
      ],
      "metadata": {
        "id": "lgEoHZL7uA5S"
      }
    },
    {
      "cell_type": "code",
      "source": [
        "# Simple if\n",
        "age = 18\n",
        "if age >= 18:\n",
        "  print(\"You are eligible to vote.\")\n",
        "else:\n",
        "  print(\"Sorry, you cannot vote yet.\")\n"
      ],
      "metadata": {
        "colab": {
          "base_uri": "https://localhost:8080/"
        },
        "id": "yCzgjhgXuhy3",
        "outputId": "7ae12fa4-6bfc-4a13-9db6-d8e900634631"
      },
      "execution_count": 5,
      "outputs": [
        {
          "output_type": "stream",
          "name": "stdout",
          "text": [
            "You are eligible to vote.\n"
          ]
        }
      ]
    },
    {
      "cell_type": "code",
      "source": [
        "# if and else\n",
        "day = \"Saturday\"\n",
        "if day == \"Friday\":\n",
        "  print(\"It's movie night!\")\n",
        "else:\n",
        "  print(\"Enjoy the rest of the weekend!\")\n"
      ],
      "metadata": {
        "colab": {
          "base_uri": "https://localhost:8080/"
        },
        "id": "Ng1c5aENuoXS",
        "outputId": "b848e7c0-b1e7-456b-d07a-44e6a9e8014d"
      },
      "execution_count": 6,
      "outputs": [
        {
          "output_type": "stream",
          "name": "stdout",
          "text": [
            "Enjoy the rest of the weekend!\n"
          ]
        }
      ]
    },
    {
      "cell_type": "code",
      "source": [
        "# Else-if\n",
        "grade = 85\n",
        "if grade >= 90:\n",
        "  print(\"Excellent!\")\n",
        "elif grade >= 80:\n",
        "  print(\"Great job!\")\n",
        "elif grade==80: # This condition also true but will not get execute\n",
        "  print(\"Good job!\")\n",
        "else:\n",
        "  print(\"Keep practicing!\")\n"
      ],
      "metadata": {
        "colab": {
          "base_uri": "https://localhost:8080/"
        },
        "id": "XxrtL7lUuthW",
        "outputId": "814a78d7-481e-456f-dbc5-e72b56834ede"
      },
      "execution_count": 7,
      "outputs": [
        {
          "output_type": "stream",
          "name": "stdout",
          "text": [
            "Great job!\n"
          ]
        }
      ]
    },
    {
      "cell_type": "code",
      "source": [
        "# Nested if\n",
        "\n",
        "is_logged_in = True\n",
        "is_admin = False\n",
        "\n",
        "if is_logged_in:\n",
        "  if is_admin:\n",
        "    print(\"Welcome admin, you have full access.\")\n",
        "  else:\n",
        "    print(\"Welcome user, you have limited access.\")\n",
        "else:\n",
        "  print(\"Please log in to continue.\")\n"
      ],
      "metadata": {
        "colab": {
          "base_uri": "https://localhost:8080/"
        },
        "id": "hUffq-o2u9cw",
        "outputId": "1b4d1579-43e3-49f7-bb34-ce667a97c8e5"
      },
      "execution_count": 8,
      "outputs": [
        {
          "output_type": "stream",
          "name": "stdout",
          "text": [
            "Welcome user, you have limited access.\n"
          ]
        }
      ]
    },
    {
      "cell_type": "markdown",
      "source": [
        "# Looping in Python: for, while, and Nested Loops\n",
        "- Loops are essential tools for repeated execution of code blocks.\n",
        "- Python offers two primary looping constructs: for loops and while loops, along with the ability to nest loops for more complex tasks.\n",
        "\n",
        "1. for loop:\n",
        "\n",
        "- The for loop iterates over a sequence of elements (list, tuple, string).\n",
        "\n",
        "- The variable element takes on the value of each item in the sequence during each iteration.\n",
        "\n",
        "2. while loop:\n",
        "\n",
        "- The while loop continues executing a code block as long as a specified condition remains True.\n",
        "\n",
        "3. Nested Loops:\n",
        "\n",
        "- Nested loops involve placing one loop within the body of another loop.\n",
        "- The inner loop executes completely for each iteration of the outer loop.\n",
        "\n",
        "## Importance of Loops:\n",
        "\n",
        "- Repetitive Tasks: Loops automate repetitive tasks, saving you from writing the same code multiple times.\n",
        "- Data Processing: They efficiently iterate over collections of data, performing operations on each element.\n",
        "- Algorithms: Many algorithms rely on loops to achieve their desired functionality.\n",
        "- Automation: Loops enable automating tasks that would otherwise require manual repetition.\n",
        "\n",
        "Note : By mastering these looping constructs, you can write Python programs that handle data efficiently and automate repetitive processes."
      ],
      "metadata": {
        "id": "SikzszCmvkeZ"
      }
    },
    {
      "cell_type": "code",
      "source": [
        "# For loop\n",
        "sequence = 1,2,3,4,5,6,7,9\n",
        "for element in sequence:\n",
        "  # indented code block to be executed for each element\n",
        "  print(element)\n"
      ],
      "metadata": {
        "colab": {
          "base_uri": "https://localhost:8080/"
        },
        "id": "G6fyNm6gvGLY",
        "outputId": "8c22003d-23fc-4533-b1fb-292c814e9caf"
      },
      "execution_count": 9,
      "outputs": [
        {
          "output_type": "stream",
          "name": "stdout",
          "text": [
            "1\n",
            "2\n",
            "3\n",
            "4\n",
            "5\n",
            "6\n",
            "7\n",
            "9\n"
          ]
        }
      ]
    },
    {
      "cell_type": "code",
      "source": [
        "# While loop\n",
        "counter = 0\n",
        "while counter < 5:\n",
        "  print(\"Counter : \",counter)\n",
        "  counter += 1\n"
      ],
      "metadata": {
        "colab": {
          "base_uri": "https://localhost:8080/"
        },
        "id": "lMK2bfKYwpKY",
        "outputId": "3c50eba2-c391-4328-c2f0-f862da5e3552"
      },
      "execution_count": 10,
      "outputs": [
        {
          "output_type": "stream",
          "name": "stdout",
          "text": [
            "Counter :  0\n",
            "Counter :  1\n",
            "Counter :  2\n",
            "Counter :  3\n",
            "Counter :  4\n"
          ]
        }
      ]
    },
    {
      "cell_type": "code",
      "source": [
        "# Nested for loop\n",
        "rows = 3\n",
        "columns = 4\n",
        "for i in range(rows):  # outer loop for rows\n",
        "  for j in range(columns):  # inner loop for columns within each row\n",
        "    print(\"Hi\")  # print an asterisk\n",
        "  print(\"***\")  # move to the next line after each row"
      ],
      "metadata": {
        "colab": {
          "base_uri": "https://localhost:8080/"
        },
        "id": "4VVUtWj1w1-J",
        "outputId": "4ba4fc71-278a-4ba2-bce2-cd1722e7fe6c"
      },
      "execution_count": 13,
      "outputs": [
        {
          "output_type": "stream",
          "name": "stdout",
          "text": [
            "Hi\n",
            "Hi\n",
            "Hi\n",
            "Hi\n",
            "***\n",
            "Hi\n",
            "Hi\n",
            "Hi\n",
            "Hi\n",
            "***\n",
            "Hi\n",
            "Hi\n",
            "Hi\n",
            "Hi\n",
            "***\n"
          ]
        }
      ]
    },
    {
      "cell_type": "code",
      "source": [
        "# Nested While loop\n",
        "\n",
        "i = 1\n",
        "while(i<=4):\n",
        "  j = 10\n",
        "  while(j<=15):\n",
        "    print(j)\n",
        "    j+=1\n",
        "  i+=1\n",
        "  print(\"***\")"
      ],
      "metadata": {
        "colab": {
          "base_uri": "https://localhost:8080/"
        },
        "id": "nRZAzoQBxBwc",
        "outputId": "5ad6d402-c9c3-4260-8fe5-6ab58806a9f1"
      },
      "execution_count": 15,
      "outputs": [
        {
          "output_type": "stream",
          "name": "stdout",
          "text": [
            "10\n",
            "11\n",
            "12\n",
            "13\n",
            "14\n",
            "15\n",
            "***\n",
            "10\n",
            "11\n",
            "12\n",
            "13\n",
            "14\n",
            "15\n",
            "***\n",
            "10\n",
            "11\n",
            "12\n",
            "13\n",
            "14\n",
            "15\n",
            "***\n",
            "10\n",
            "11\n",
            "12\n",
            "13\n",
            "14\n",
            "15\n",
            "***\n"
          ]
        }
      ]
    },
    {
      "cell_type": "markdown",
      "source": [
        "# Python controlling statements in loops:  break and continue\n",
        "- Loops provide a powerful mechanism for repetitive tasks, but sometimes you need more control over their execution.\n",
        "- Python offers the break and continue statements to alter the default behavior of loops\n",
        "\n",
        "1. break statement:\n",
        "\n",
        "- The break statement terminates the loop it's within, immediately exiting the loop's execution.\n",
        "- Control flow jumps to the code following the loop.\n",
        "\n",
        "2. continue statement:\n",
        "\n",
        "- The continue statement skips the remaining code block of the current iteration in a loop.\n",
        "- The loop control jumps back to the beginning of the next iteration.\n",
        "\n",
        "## Importance of break and continue:\n",
        "\n",
        "- Early Termination: break allows exiting a loop prematurely when a specific condition is met, improving efficiency.\n",
        "- Conditional Skipping: continue helps you bypass certain iterations within a loop based on conditions, making the code more concise.\n",
        "- Complex Loop Control: By combining break, continue, and loop conditions, you can achieve intricate loop behavior for various scenarios.\n",
        "\n",
        "Note :\n",
        "- Use break and continue judiciously to avoid making loops unreadable or difficult to follow.\n",
        "- Excessive use of break can sometimes make code less maintainable. Consider restructuring your loop logic if possible.\n",
        "- By effectively using break and continue, you can enhance the control flow of your Python loops and write more efficient and flexible code."
      ],
      "metadata": {
        "id": "Vpd7oi0Axvxm"
      }
    },
    {
      "cell_type": "code",
      "source": [
        "# Break Example\n",
        "numbers = 1, 5, 7, 3, 9\n",
        "for num in numbers:\n",
        "  if num == 7:\n",
        "    print(\"Found\",num,\"exiting loop.\")\n",
        "    break  # terminate the loop upon finding 7\n",
        "  else:\n",
        "    print(num)\n"
      ],
      "metadata": {
        "colab": {
          "base_uri": "https://localhost:8080/"
        },
        "id": "kkQogXuExYdc",
        "outputId": "41039587-3fdb-474d-952e-c2bcac1de6cb"
      },
      "execution_count": 16,
      "outputs": [
        {
          "output_type": "stream",
          "name": "stdout",
          "text": [
            "1\n",
            "5\n",
            "Found 7 exiting loop.\n"
          ]
        }
      ]
    },
    {
      "cell_type": "code",
      "source": [
        "# Continue Example\n",
        "numbers = 1, 4, 2, 8, 5\n",
        "for num in numbers:\n",
        "  if num % 2 == 0:  # skip even numbers\n",
        "    continue\n",
        "  print(\"Found odd number: \",num)\n"
      ],
      "metadata": {
        "colab": {
          "base_uri": "https://localhost:8080/"
        },
        "id": "OqERCc8nzObp",
        "outputId": "6e85d5a8-a9b6-40d8-a97f-7d67a5436c19"
      },
      "execution_count": 17,
      "outputs": [
        {
          "output_type": "stream",
          "name": "stdout",
          "text": [
            "Found odd number:  1\n",
            "Found odd number:  5\n"
          ]
        }
      ]
    },
    {
      "cell_type": "markdown",
      "source": [
        "# End of Python Basics -1"
      ],
      "metadata": {
        "id": "SLVTWlkg5Dp5"
      }
    },
    {
      "cell_type": "code",
      "source": [],
      "metadata": {
        "id": "x7reyLof5Gia"
      },
      "execution_count": null,
      "outputs": []
    }
  ]
}